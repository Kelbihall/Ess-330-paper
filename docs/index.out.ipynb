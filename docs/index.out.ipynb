{
 "cells": [
  {
   "cell_type": "markdown",
   "metadata": {},
   "source": [
    "# Lab 7 Final Project - Intro/Methods Draft\n",
    "\n",
    "Kelbi Hall (Colorado State University)  \n",
    "Chloe Rogozinski (Colorado State University)  \n",
    "Gabriela Valdez (Colorado State University)\n",
    "\n",
    "# 1. Title: Wasting Water for Wardrobes: Analyzing Water Stress and Textile Manufacturing in Fast Fashion\n",
    "\n",
    "# 2. Introduction, Background, and Motivation\n",
    "\n",
    "The fast fashion industry is among the most polluting in the world, contributing approximately 8% of total global carbon emissions and consuming 20% of all global wastewater—about 79 trillion liters (Bailey et al., 2022). As demand grows, many companies outsource production to low- and middle-income countries due to cheaper labor and manufacturing costs, which in turn drives down prices and boosts consumer appeal. According to The Environmental Impacts of Fast Fashion on Water Quality, brands today release twice as many collections as they did before the 2000s. With lower quality and cost, garments are consumed and discarded more rapidly, accelerating water usage and waste (Bailey et al., 2022). Chemical use in textile production also poses significant environmental threats. Pesticides used in cotton farming lead to runoff that introduces excessive nutrients into waterways, resulting in dead zones caused by algal blooms. Additionally, fabric dyeing processes account for 17–20% of industrial water pollution globally due to the release of hazardous chemicals (Bildirici et al., 2024). According to the World Trade Organization’s 2022 analysis, China is the largest global textile exporter, accounting for 31.7% of exports. Bangladesh and India follow with 7.9% and 3.1% respectively (Bildirici et al., 2024). This project focuses on water-stressed areas in these three major textile-producing countries. China, with 20% of the world’s population, has access to only 6% of global freshwater. Uneven distribution and widespread pollution have caused severe water scarcity in many regions (Leung, 2023). India holds 18% of the world’s population but only 4% of freshwater resources. Poor water sanitation practices leave 600 million people without reliable access to usable water (World Bank, 2023). Although Bangladesh has access to 3% of the world’s freshwater and accounts for just 2% of the global population, only 40% of its population has access to safe water. Cotton production places immense stress on freshwater availability, as growing just one pair of jeans requires 7,500–10,000 liters of water—the equivalent of what one person would drink over seven years (Bildirici et al., 2024).\n",
    "\n",
    "([Bailey, Basu, and Sharma 2022](#ref-w14071073)) ([Bildirici, Türkkahraman, and Ersin 2025](#ref-su17010069)) ([Leung 2023](#ref-leung2023china)) ([World Bank 2022](#ref-worldbank2022india)) ([World Bank 2023a](#ref-worldbank2023freshwater)) ([World Bank 2023b](#ref-worldbank2023textiles))\n",
    "\n",
    "Our Data\n",
    "\n",
    "Our main focus in this project is to bring into light the realities of neglectful consumption of water from the fast fashion industry in already resource scarce countries. This study draws on two key datasets:\n",
    "\n",
    "Water Stress Dataset (FAO/AQUASTAT) Indicator: ER.H2O.FWST.ZS This dataset reflects the level of water stress in each country, defined as the ratio of total freshwater withdrawn to total renewable freshwater resources, expressed as a percentage. Higher values indicate greater pressure on a country’s freshwater supply.\n",
    "\n",
    "Textile Manufacturing Dataset (World Bank) Indicator: NV.MNF.TXTL.ZS.UN This data presents the textile industry’s value added as a percentage of total manufacturing output in each country, across multiple years. It provides a proxy for understanding the relative importance of the textile sector within a country’s economy.\n",
    "\n",
    "By aligning these datasets by country and year, we can evaluate correlations between water stress and the proportion of manufacturing focused on textiles. This will help identify countries where textile production may be disproportionately contributing to water scarcity.\n",
    "\n",
    "([World Bank 2023a](#ref-worldbank2023freshwater)) ([World Bank 2023b](#ref-worldbank2023textiles))\n",
    "\n",
    "Our Methods\n",
    "\n",
    "Data Alignment and Cleaning: We will align both datasets by Country Name and Year. Initial checks will be done to remove null or inconsistent values. Data will be filtered to include only countries with at least 10 years of overlapping data for both indicators.\n",
    "\n",
    "Exploratory Data Analysis (EDA):\n",
    "\n",
    "Time series visualization of water stress and textile production for high-output countries (e.g., India, Bangladesh, China).\n",
    "\n",
    "Correlation matrix and scatterplots to assess the strength and nature of the relationship between water stress and textile manufacturing percentages.\n",
    "\n",
    "Identification of outliers or patterns (e.g., countries with high textile production but low water stress).\n",
    "\n",
    "# 3.Exploring the Data\n",
    "\n",
    "The two datasets we are using are from the data world bank and one shows the percentage of manufacturing focused on textile production by country and year while the other one has the same set up but looks at the water stress level each year by country.\n",
    "\n",
    "1.  Water Stress Dataset Source: World Bank Open Data – Freshwater withdrawals as a proportion of available freshwater resources (ER.H2O.FWST.ZS) https://data.worldbank.org/indicator/ER.H2O.FWST.ZS Description: This dataset tracks national water stress levels by measuring the percentage of renewable freshwater resources that are withdrawn each year. It is commonly used to evaluate a country’s overall water scarcity risk. Higher percentages indicate more severe water stress and can be caused by industrial, agricultural, or domestic water demand. The data is reported annually by country. Columns (after reshaping): Country Name: Name of the country\n",
    "\n",
    "Country Code: ISO 3-letter country code\n",
    "\n",
    "Year: Year of the measurement\n",
    "\n",
    "WaterStress: Percentage of total renewable freshwater resources withdrawn\n",
    "\n",
    "1.  Textile Manufacturing Dataset Source: World Bank Open Data – Textile manufacturing, value added (% of manufacturing) (NV.MNF.TXTL.ZS.UN) https://data.worldbank.org/indicator/NV.MNF.TXTL.ZS.UN Description: This dataset captures the contribution of the textile industry to each country’s total manufacturing output, expressed as a percentage. It reflects the economic weight of textile manufacturing, including garment production, fabric treatment, and fiber processing. Countries with large fast fashion supply chains typically have a higher percentage in this metric. Columns (after reshaping): Country Name: Name of the country\n",
    "\n",
    "Country Code: ISO 3-letter country code\n",
    "\n",
    "Year: Year of the observation\n",
    "\n",
    "TextileValue: Percentage of total manufacturing value from textiles"
   ],
   "id": "dacd0655-adcb-4fa7-b73a-d5d815099b54"
  },
  {
   "cell_type": "code",
   "execution_count": null,
   "metadata": {},
   "outputs": [
    {
     "output_type": "stream",
     "name": "stderr",
     "text": [
      "── Attaching core tidyverse packages ──────────────────────── tidyverse 2.0.0 ──\n",
      "✔ dplyr     1.1.4     ✔ readr     2.1.5\n",
      "✔ forcats   1.0.0     ✔ stringr   1.5.1\n",
      "✔ ggplot2   3.5.1     ✔ tibble    3.2.1\n",
      "✔ lubridate 1.9.4     ✔ tidyr     1.3.1\n",
      "✔ purrr     1.0.4     \n",
      "── Conflicts ────────────────────────────────────────── tidyverse_conflicts() ──\n",
      "✖ dplyr::filter() masks stats::filter()\n",
      "✖ dplyr::lag()    masks stats::lag()\n",
      "ℹ Use the conflicted package (<http://conflicted.r-lib.org/>) to force all conflicts to become errors"
     ]
    }
   ],
   "source": [
    "# Load packages\n",
    "library(tidyverse)"
   ],
   "id": "03d8880b-e35f-4f05-91ad-b3203607b3d2"
  },
  {
   "cell_type": "code",
   "execution_count": null,
   "metadata": {},
   "outputs": [
    {
     "output_type": "stream",
     "name": "stdout",
     "text": [
      "# A tibble: 10 × 4\n",
      "   `Country Name` `Country Code` Year  WaterStress\n",
      "   <chr>          <chr>          <chr>       <dbl>\n",
      " 1 Afghanistan    AFG            1975         28.9\n",
      " 2 Afghanistan    AFG            1976         32.4\n",
      " 3 Afghanistan    AFG            1977         35.8\n",
      " 4 Afghanistan    AFG            1978         39.3\n",
      " 5 Afghanistan    AFG            1979         42.8\n",
      " 6 Afghanistan    AFG            1980         46.2\n",
      " 7 Afghanistan    AFG            1981         49.7\n",
      " 8 Afghanistan    AFG            1982         53.2\n",
      " 9 Afghanistan    AFG            1983         56.6\n",
      "10 Afghanistan    AFG            1984         60.1"
     ]
    }
   ],
   "source": [
    "# Preview the water stress data\n",
    "water_long %>%\n",
    "  filter(!is.na(WaterStress)) %>%\n",
    "  head(10)"
   ],
   "id": "2ce113ce-4a59-4d89-8519-d766961af941"
  },
  {
   "cell_type": "code",
   "execution_count": null,
   "metadata": {},
   "outputs": [
    {
     "output_type": "stream",
     "name": "stdout",
     "text": [
      "# A tibble: 10 × 4\n",
      "   `Country Name` `Country Code` Year  TextileValue\n",
      "   <chr>          <chr>          <chr>        <dbl>\n",
      " 1 Albania        ALB            2010          26.4\n",
      " 2 Albania        ALB            2011          31.5\n",
      " 3 Albania        ALB            2012          27.3\n",
      " 4 Albania        ALB            2013          31.1\n",
      " 5 Albania        ALB            2014          32.7\n",
      " 6 Albania        ALB            2015          32.4\n",
      " 7 Albania        ALB            2016          33.7\n",
      " 8 Albania        ALB            2017          34.9\n",
      " 9 Albania        ALB            2018          36.6\n",
      "10 Albania        ALB            2019          36.4"
     ]
    }
   ],
   "source": [
    "# Preview the textile manufacturing data\n",
    "textiles_long %>%\n",
    "  filter(!is.na(TextileValue)) %>%\n",
    "  head(10)"
   ],
   "id": "13de8d5d-7e0b-4b45-b491-a39605fe9f9b"
  },
  {
   "cell_type": "code",
   "execution_count": null,
   "metadata": {},
   "outputs": [
    {
     "output_type": "stream",
     "name": "stdout",
     "text": [
      "Missing Water Stress values: 11000 "
     ]
    },
    {
     "output_type": "stream",
     "name": "stdout",
     "text": [
      "Missing Textile Manufacturing values: 13692 "
     ]
    }
   ],
   "source": [
    "# Count missing values\n",
    "cat(\"Missing Water Stress values:\", sum(is.na(water_long$WaterStress)), \"\\n\")"
   ],
   "id": "ff6e0125-efa0-4019-b289-0afab9ba36cc"
  },
  {
   "cell_type": "markdown",
   "metadata": {},
   "source": [
    "# 4. Preliminary Methods and Planning\n",
    "\n",
    "To explore the connection between fast fashion and water stress, we’re starting with exploratory data analysis and some basic statistics to help us understand the patterns in both datasets. Planned Methods We plan to use time series plots to look at water stress and textile manufacturing over time, especially in countries like India, China, and Bangladesh where textile output is high. We’ll also create scatterplots and run simple correlation tests to see if there’s a relationship between the two variables across countries and years. If the data supports it, we might use grouped summaries or rankings to highlight countries facing both high water stress and high textile manufacturing percentages. Later on, if it makes sense, we may try a simple linear regression to see how well textile output predicts water stress. Do We Have Everything We Need Right now, we’re working with two solid datasets that give us a national-level view of water stress and textile manufacturing. This gives us a strong starting point, but we’re also interested in bringing in a third dataset that shows the number of fast fashion companies operating in each country. That would help us connect the environmental side of the story with the actual industry presence and possibly strengthen our analysis. Challenges in the Data One challenge is missing values. Some countries have incomplete records or gaps for certain years, which could limit how many data points we can actually use. Another challenge is scale. Both datasets are national-level, so we’re not capturing what’s happening at the regional level where production and water use might be more concentrated. Lastly, some countries may define or report textile manufacturing a little differently, which could affect consistency. Challenges in the Methods Even if we find a strong correlation, it won’t mean that one variable is directly causing the other. There could be other factors at play like agriculture, urbanization, or climate that influence water stress. Also, if we decide to use more advanced methods like regression, we’ll need to make sure our data is complete enough and that we’re not oversimplifying complex issues. Why These Methods Fit Our Goals The methods we’ve outlined help us start answering our main question by identifying patterns that connect fast fashion production with water use. By looking at changes over time and comparing countries, we can begin to understand where this relationship is the strongest. This approach allows us to stay rooted in real-world data while setting the stage for deeper insights and possible solutions later on.\n",
    "\n",
    "Bailey, K., A. Basu, and S. Sharma. 2022. “The Environmental Impacts of Fast Fashion on Water Quality: A Systematic Review.” *Water (Basel)* 14 (7): 1073. <https://doi.org/10.3390/w14071073>.\n",
    "\n",
    "Bildirici, M., I. Türkkahraman, and Ö. Ö. Ersin. 2025. “Unraveling the Environmental Impacts of the Fashion Industry: A Fourier-Based Analysis of Pollution Dynamics and Causality Across Five Countries.” *Sustainability* 17 (1): 69. <https://doi.org/10.3390/su17010069>.\n",
    "\n",
    "Leung, K. C. 2023. “Tackling China’s Water Shortage Crisis.” 2023. <https://earth.org/tackling-chinas-water-shortage-crisis/>.\n",
    "\n",
    "World Bank. 2022. “How Is India Addressing Its Water Needs?” 2022. <https://www.worldbank.org/en/country/india/brief/world-water-day-2022-how-india-is-addressing-its-water-needs>.\n",
    "\n",
    "———. 2023a. “Freshwater Withdrawal as % of Internal Resources (ER.H2O.FWST.ZS).” <https://data.worldbank.org/indicator/ER.H2O.FWST.ZS>.\n",
    "\n",
    "———. 2023b. “Textiles and Clothing, Value Added (% of Manufacturing) (NV.MNF.TXTL.ZS.UN).” <https://data.worldbank.org/indicator/NV.MNF.TXTL.ZS.UN>."
   ],
   "id": "2ba2d9b9-a272-4b03-b080-2ca75c65a775"
  }
 ],
 "nbformat": 4,
 "nbformat_minor": 5,
 "metadata": {}
}
